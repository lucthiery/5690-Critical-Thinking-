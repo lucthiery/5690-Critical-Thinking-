{
 "cells": [
  {
   "cell_type": "code",
   "execution_count": 7,
   "metadata": {
    "collapsed": true
   },
   "outputs": [],
   "source": [
    "import pandas as pd\n",
    "from collections import defaultdict\n",
    "import matplotlib.pyplot as plt"
   ]
  },
  {
   "cell_type": "code",
   "execution_count": 3,
   "outputs": [
    {
     "data": {
      "text/plain": "             StartDate              EndDate      Status       IPAddress  \\\n0  2025-05-28 12:00:53  2025-05-28 12:18:01  IP Address    41.66.99.121   \n1  2025-05-28 14:08:58  2025-05-28 14:12:40  IP Address   213.225.7.197   \n2  2025-05-28 14:10:40  2025-05-28 14:19:05  IP Address  213.142.96.179   \n3  2025-05-28 14:15:38  2025-05-28 14:21:27  IP Address   213.229.5.170   \n4  2025-05-28 15:09:57  2025-05-28 15:13:06  IP Address  91.108.243.193   \n\n   Progress  Duration (in seconds)  Finished         RecordedDate  \\\n0       100                   1027      True  2025-05-28 12:18:01   \n1       100                    221      True  2025-05-28 14:12:41   \n2       100                    505      True  2025-05-28 14:19:06   \n3       100                    348      True  2025-05-28 14:21:27   \n4       100                    188      True  2025-05-28 15:13:06   \n\n          ResponseId  RecipientLastName  ...  Q4_7  Q4_8  Q5_1  Q5_2  Q5_3  \\\n0  R_8IkpM6cQP8JYDu1                NaN  ...   7.0   5.0   6.0   4.0   1.0   \n1  R_80PeBi3Uw8wZ5LK                NaN  ...   4.0   1.0   4.0   2.0   3.0   \n2  R_8K2tV4DclriZjYq                NaN  ...   8.0   5.0   7.0   6.0   1.0   \n3  R_2OlTW9FdTwWG5af                NaN  ...   8.0   4.0   6.0   8.0   2.0   \n4  R_2agG42X1gMaJzr6                NaN  ...   7.0   2.0   8.0   2.0   1.0   \n\n  Q5_4 Q5_5  Q5_6  Q5_7  Q5_8  \n0  5.0  8.0   7.0   3.0   2.0  \n1  5.0  1.0   8.0   6.0   7.0  \n2  2.0  8.0   5.0   3.0   4.0  \n3  1.0  7.0   3.0   4.0   5.0  \n4  3.0  4.0   5.0   6.0   7.0  \n\n[5 rows x 57 columns]",
      "text/html": "<div>\n<style scoped>\n    .dataframe tbody tr th:only-of-type {\n        vertical-align: middle;\n    }\n\n    .dataframe tbody tr th {\n        vertical-align: top;\n    }\n\n    .dataframe thead th {\n        text-align: right;\n    }\n</style>\n<table border=\"1\" class=\"dataframe\">\n  <thead>\n    <tr style=\"text-align: right;\">\n      <th></th>\n      <th>StartDate</th>\n      <th>EndDate</th>\n      <th>Status</th>\n      <th>IPAddress</th>\n      <th>Progress</th>\n      <th>Duration (in seconds)</th>\n      <th>Finished</th>\n      <th>RecordedDate</th>\n      <th>ResponseId</th>\n      <th>RecipientLastName</th>\n      <th>...</th>\n      <th>Q4_7</th>\n      <th>Q4_8</th>\n      <th>Q5_1</th>\n      <th>Q5_2</th>\n      <th>Q5_3</th>\n      <th>Q5_4</th>\n      <th>Q5_5</th>\n      <th>Q5_6</th>\n      <th>Q5_7</th>\n      <th>Q5_8</th>\n    </tr>\n  </thead>\n  <tbody>\n    <tr>\n      <th>0</th>\n      <td>2025-05-28 12:00:53</td>\n      <td>2025-05-28 12:18:01</td>\n      <td>IP Address</td>\n      <td>41.66.99.121</td>\n      <td>100</td>\n      <td>1027</td>\n      <td>True</td>\n      <td>2025-05-28 12:18:01</td>\n      <td>R_8IkpM6cQP8JYDu1</td>\n      <td>NaN</td>\n      <td>...</td>\n      <td>7.0</td>\n      <td>5.0</td>\n      <td>6.0</td>\n      <td>4.0</td>\n      <td>1.0</td>\n      <td>5.0</td>\n      <td>8.0</td>\n      <td>7.0</td>\n      <td>3.0</td>\n      <td>2.0</td>\n    </tr>\n    <tr>\n      <th>1</th>\n      <td>2025-05-28 14:08:58</td>\n      <td>2025-05-28 14:12:40</td>\n      <td>IP Address</td>\n      <td>213.225.7.197</td>\n      <td>100</td>\n      <td>221</td>\n      <td>True</td>\n      <td>2025-05-28 14:12:41</td>\n      <td>R_80PeBi3Uw8wZ5LK</td>\n      <td>NaN</td>\n      <td>...</td>\n      <td>4.0</td>\n      <td>1.0</td>\n      <td>4.0</td>\n      <td>2.0</td>\n      <td>3.0</td>\n      <td>5.0</td>\n      <td>1.0</td>\n      <td>8.0</td>\n      <td>6.0</td>\n      <td>7.0</td>\n    </tr>\n    <tr>\n      <th>2</th>\n      <td>2025-05-28 14:10:40</td>\n      <td>2025-05-28 14:19:05</td>\n      <td>IP Address</td>\n      <td>213.142.96.179</td>\n      <td>100</td>\n      <td>505</td>\n      <td>True</td>\n      <td>2025-05-28 14:19:06</td>\n      <td>R_8K2tV4DclriZjYq</td>\n      <td>NaN</td>\n      <td>...</td>\n      <td>8.0</td>\n      <td>5.0</td>\n      <td>7.0</td>\n      <td>6.0</td>\n      <td>1.0</td>\n      <td>2.0</td>\n      <td>8.0</td>\n      <td>5.0</td>\n      <td>3.0</td>\n      <td>4.0</td>\n    </tr>\n    <tr>\n      <th>3</th>\n      <td>2025-05-28 14:15:38</td>\n      <td>2025-05-28 14:21:27</td>\n      <td>IP Address</td>\n      <td>213.229.5.170</td>\n      <td>100</td>\n      <td>348</td>\n      <td>True</td>\n      <td>2025-05-28 14:21:27</td>\n      <td>R_2OlTW9FdTwWG5af</td>\n      <td>NaN</td>\n      <td>...</td>\n      <td>8.0</td>\n      <td>4.0</td>\n      <td>6.0</td>\n      <td>8.0</td>\n      <td>2.0</td>\n      <td>1.0</td>\n      <td>7.0</td>\n      <td>3.0</td>\n      <td>4.0</td>\n      <td>5.0</td>\n    </tr>\n    <tr>\n      <th>4</th>\n      <td>2025-05-28 15:09:57</td>\n      <td>2025-05-28 15:13:06</td>\n      <td>IP Address</td>\n      <td>91.108.243.193</td>\n      <td>100</td>\n      <td>188</td>\n      <td>True</td>\n      <td>2025-05-28 15:13:06</td>\n      <td>R_2agG42X1gMaJzr6</td>\n      <td>NaN</td>\n      <td>...</td>\n      <td>7.0</td>\n      <td>2.0</td>\n      <td>8.0</td>\n      <td>2.0</td>\n      <td>1.0</td>\n      <td>3.0</td>\n      <td>4.0</td>\n      <td>5.0</td>\n      <td>6.0</td>\n      <td>7.0</td>\n    </tr>\n  </tbody>\n</table>\n<p>5 rows × 57 columns</p>\n</div>"
     },
     "execution_count": 3,
     "metadata": {},
     "output_type": "execute_result"
    }
   ],
   "source": [
    "df = pd.read_csv(\"X1.csv\", delimiter=\";\")\n",
    "df.head()"
   ],
   "metadata": {
    "collapsed": false
   }
  },
  {
   "cell_type": "code",
   "execution_count": 4,
   "outputs": [
    {
     "name": "stdout",
     "output_type": "stream",
     "text": [
      "{'Q1_1': np.float64(4.975), 'Q1_2': np.float64(3.3), 'Q1_3': np.float64(4.025), 'Q1_4': np.float64(2.825), 'Q1_5': np.float64(4.65), 'Q1_6': np.float64(6.55), 'Q1_7': np.float64(4.95), 'Q1_8': np.float64(4.725), 'Q2_1': np.float64(4.7368421052631575), 'Q2_2': np.float64(4.7105263157894735), 'Q2_3': np.float64(3.526315789473684), 'Q2_4': np.float64(4.131578947368421), 'Q2_5': np.float64(5.421052631578948), 'Q2_6': np.float64(3.9210526315789473), 'Q2_7': np.float64(4.552631578947368), 'Q2_8': np.float64(5.0), 'Q3_1': np.float64(4.864864864864865), 'Q3_2': np.float64(2.7027027027027026), 'Q3_3': np.float64(4.4324324324324325), 'Q3_4': np.float64(3.4594594594594597), 'Q3_5': np.float64(3.5945945945945947), 'Q3_6': np.float64(3.5135135135135136), 'Q3_7': np.float64(6.513513513513513), 'Q3_8': np.float64(6.837837837837838), 'Q4_1': np.float64(2.5789473684210527), 'Q4_2': np.float64(4.578947368421052), 'Q4_3': np.float64(3.5526315789473686), 'Q4_4': np.float64(3.973684210526316), 'Q4_5': np.float64(4.184210526315789), 'Q4_6': np.float64(6.684210526315789), 'Q4_7': np.float64(6.0), 'Q4_8': np.float64(4.447368421052632), 'Q5_1': np.float64(4.230769230769231), 'Q5_2': np.float64(4.666666666666667), 'Q5_3': np.float64(3.1538461538461537), 'Q5_4': np.float64(3.717948717948718), 'Q5_5': np.float64(6.153846153846154), 'Q5_6': np.float64(5.769230769230769), 'Q5_7': np.float64(4.358974358974359), 'Q5_8': np.float64(3.948717948717949)}\n"
     ]
    }
   ],
   "source": [
    "results = {}\n",
    "for column in df.columns:\n",
    "    if column.startswith(\"Q\"):  # Only process question-related columns\n",
    "        results[column] = df[column].mean()\n",
    "\n",
    "print(results)"
   ],
   "metadata": {
    "collapsed": false
   }
  },
  {
   "cell_type": "code",
   "execution_count": 6,
   "outputs": [
    {
     "name": "stdout",
     "output_type": "stream",
     "text": [
      "results_sorted:\n",
      " {'Q1': [np.float64(2.825), np.float64(3.3), np.float64(4.025), np.float64(4.65), np.float64(4.725), np.float64(4.95), np.float64(4.975), np.float64(6.55)], 'Q2': [np.float64(3.526315789473684), np.float64(3.9210526315789473), np.float64(4.131578947368421), np.float64(4.552631578947368), np.float64(4.7105263157894735), np.float64(4.7368421052631575), np.float64(5.0), np.float64(5.421052631578948)], 'Q3': [np.float64(2.7027027027027026), np.float64(3.4594594594594597), np.float64(3.5135135135135136), np.float64(3.5945945945945947), np.float64(4.4324324324324325), np.float64(4.864864864864865), np.float64(6.513513513513513), np.float64(6.837837837837838)], 'Q4': [np.float64(2.5789473684210527), np.float64(3.5526315789473686), np.float64(3.973684210526316), np.float64(4.184210526315789), np.float64(4.447368421052632), np.float64(4.578947368421052), np.float64(6.0), np.float64(6.684210526315789)], 'Q5': [np.float64(3.1538461538461537), np.float64(3.717948717948718), np.float64(3.948717948717949), np.float64(4.230769230769231), np.float64(4.358974358974359), np.float64(4.666666666666667), np.float64(5.769230769230769), np.float64(6.153846153846154)]}\n",
      "\n",
      "results_sorted_index:\n",
      " {'Q1': ['Q1_4', 'Q1_2', 'Q1_3', 'Q1_5', 'Q1_8', 'Q1_7', 'Q1_1', 'Q1_6'], 'Q2': ['Q2_3', 'Q2_6', 'Q2_4', 'Q2_7', 'Q2_2', 'Q2_1', 'Q2_8', 'Q2_5'], 'Q3': ['Q3_2', 'Q3_4', 'Q3_6', 'Q3_5', 'Q3_3', 'Q3_1', 'Q3_7', 'Q3_8'], 'Q4': ['Q4_1', 'Q4_3', 'Q4_4', 'Q4_5', 'Q4_8', 'Q4_2', 'Q4_7', 'Q4_6'], 'Q5': ['Q5_3', 'Q5_4', 'Q5_8', 'Q5_1', 'Q5_7', 'Q5_2', 'Q5_6', 'Q5_5']}\n"
     ]
    }
   ],
   "source": [
    "question_groups = defaultdict(list)\n",
    "results_sorted = {}\n",
    "results_sorted_index = {}\n",
    "\n",
    "# Group columns by question prefix (e.g., Q1, Q2, ...)\n",
    "for column in df.columns:\n",
    "    if column.startswith(\"Q\"):\n",
    "        q_prefix = column.split(\"_\")[0]\n",
    "        question_groups[q_prefix].append(column)\n",
    "\n",
    "# Compute and sort averages for each question group\n",
    "for q, cols in question_groups.items():\n",
    "    averages = {col: df[col].mean() for col in cols}\n",
    "\n",
    "    # Sort columns by average\n",
    "    sorted_cols = sorted(averages.items(), key=lambda x: x[1])\n",
    "\n",
    "    # Save sorted averages and corresponding column names\n",
    "    results_sorted[q] = [avg for _, avg in sorted_cols]\n",
    "    results_sorted_index[q] = [col for col, _ in sorted_cols]\n",
    "\n",
    "print(\"results_sorted:\\n\", results_sorted)\n",
    "print(\"\\nresults_sorted_index:\\n\", results_sorted_index)"
   ],
   "metadata": {
    "collapsed": false
   }
  },
  {
   "cell_type": "code",
   "execution_count": 9,
   "outputs": [
    {
     "ename": "TypeError",
     "evalue": "object of type 'numpy.float64' has no len()",
     "output_type": "error",
     "traceback": [
      "\u001B[31m---------------------------------------------------------------------------\u001B[39m",
      "\u001B[31mTypeError\u001B[39m                                 Traceback (most recent call last)",
      "\u001B[36mCell\u001B[39m\u001B[36m \u001B[39m\u001B[32mIn[9]\u001B[39m\u001B[32m, line 3\u001B[39m\n\u001B[32m      1\u001B[39m \u001B[38;5;28;01mfor\u001B[39;00m question, values \u001B[38;5;129;01min\u001B[39;00m results.items():\n\u001B[32m      2\u001B[39m     \u001B[38;5;66;03m# Create option labels like Q1_1, Q1_2, ..., Q1_8\u001B[39;00m\n\u001B[32m----> \u001B[39m\u001B[32m3\u001B[39m     options = [\u001B[33mf\u001B[39m\u001B[33m\"\u001B[39m\u001B[38;5;132;01m{\u001B[39;00mquestion\u001B[38;5;132;01m}\u001B[39;00m\u001B[33m_\u001B[39m\u001B[38;5;132;01m{\u001B[39;00mi+\u001B[32m1\u001B[39m\u001B[38;5;132;01m}\u001B[39;00m\u001B[33m\"\u001B[39m \u001B[38;5;28;01mfor\u001B[39;00m i \u001B[38;5;129;01min\u001B[39;00m \u001B[38;5;28mrange\u001B[39m(\u001B[38;5;28;43mlen\u001B[39;49m\u001B[43m(\u001B[49m\u001B[43mvalues\u001B[49m\u001B[43m)\u001B[49m)]\n\u001B[32m      5\u001B[39m     \u001B[38;5;66;03m# Plot\u001B[39;00m\n\u001B[32m      6\u001B[39m     plt.figure()\n",
      "\u001B[31mTypeError\u001B[39m: object of type 'numpy.float64' has no len()"
     ]
    }
   ],
   "source": [
    "for question, values in results.items():\n",
    "    # Create option labels like Q1_1, Q1_2, ..., Q1_8\n",
    "    options = [f\"{question}_{i+1}\" for i in range(len(values))]\n",
    "\n",
    "    # Plot\n",
    "    plt.figure()\n",
    "    plt.bar(options, values, color='orange')\n",
    "    plt.title(f\"Average Scores per Answer Option for {question}\")\n",
    "    plt.xlabel(\"Answer Option\")\n",
    "    plt.ylabel(\"Average Score\")\n",
    "    plt.xticks(rotation=45)\n",
    "    plt.tight_layout()\n",
    "\n",
    "plt.show()"
   ],
   "metadata": {
    "collapsed": false
   }
  },
  {
   "cell_type": "code",
   "execution_count": null,
   "outputs": [],
   "source": [],
   "metadata": {
    "collapsed": false
   }
  }
 ],
 "metadata": {
  "kernelspec": {
   "display_name": "Python 3",
   "language": "python",
   "name": "python3"
  },
  "language_info": {
   "codemirror_mode": {
    "name": "ipython",
    "version": 2
   },
   "file_extension": ".py",
   "mimetype": "text/x-python",
   "name": "python",
   "nbconvert_exporter": "python",
   "pygments_lexer": "ipython2",
   "version": "2.7.6"
  }
 },
 "nbformat": 4,
 "nbformat_minor": 0
}
